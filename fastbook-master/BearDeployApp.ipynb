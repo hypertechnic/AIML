{
 "cells": [
  {
   "cell_type": "code",
   "execution_count": null,
   "id": "weighted-garbage",
   "metadata": {},
   "outputs": [],
   "source": [
    "#Bruvs attempt to deploy a Voila + IPython Widget Bear detector app from deployed model\n",
    "import types\n",
    "from fastbook import *\n",
    "from fastai.vision.widgets import *"
   ]
  },
  {
   "cell_type": "code",
   "execution_count": null,
   "id": "expressed-sierra",
   "metadata": {},
   "outputs": [],
   "source": [
    "#Import deployed model\n",
    "path = Path()\n",
    "learn_inf = load_learner(path/'export.pkl')"
   ]
  },
  {
   "cell_type": "code",
   "execution_count": null,
   "id": "instant-bankruptcy",
   "metadata": {},
   "outputs": [],
   "source": [
    "#First, we need a file upload widget, but hide this step:\n",
    "btn_upload = widgets.FileUpload()\n",
    "#btn_upload"
   ]
  },
  {
   "cell_type": "code",
   "execution_count": null,
   "id": "hawaiian-lawyer",
   "metadata": {},
   "outputs": [],
   "source": [
    "# Apparently for Voila to parallel run, I need to set a default\n",
    "btn_upload = SimpleNamespace(data = ['images/IconBearApp.jpg'])"
   ]
  },
  {
   "cell_type": "code",
   "execution_count": null,
   "id": "interstate-cheat",
   "metadata": {},
   "outputs": [],
   "source": [
    "#Set img variable to top of upload stack\n",
    "img = PILImage.create(btn_upload.data[-1])"
   ]
  },
  {
   "cell_type": "code",
   "execution_count": null,
   "id": "excess-emphasis",
   "metadata": {},
   "outputs": [],
   "source": [
    "#have a peep:\n",
    "out_pl = widgets.Output()\n",
    "#out_pl.clear_output()\n",
    "with out_pl: display(img.to_thumb(128,128))\n",
    "#out_pl"
   ]
  },
  {
   "cell_type": "code",
   "execution_count": null,
   "id": "fluid-august",
   "metadata": {},
   "outputs": [],
   "source": [
    "#Then we can get our predictions:\n",
    "#pred,pred_idx,probs = learn_inf.predict(img)"
   ]
  },
  {
   "cell_type": "code",
   "execution_count": null,
   "id": "democratic-inflation",
   "metadata": {},
   "outputs": [],
   "source": [
    "#and use a Label to display them:\n",
    "lbl_pred = widgets.Label()\n",
    "#lbl_pred.value = f'Prediction: {pred}; Probability: {probs[pred_idx]:.04f}'\n",
    "#lbl_pred"
   ]
  },
  {
   "cell_type": "code",
   "execution_count": null,
   "id": "numerical-candle",
   "metadata": {},
   "outputs": [],
   "source": [
    "#We'll need a button to do the classification:\n",
    "btn_run = widgets.Button(description='Classify')\n",
    "#btn_run"
   ]
  },
  {
   "cell_type": "code",
   "execution_count": null,
   "id": "seeing-shipping",
   "metadata": {},
   "outputs": [],
   "source": [
    "#We'll also need a click event handler; a function that will be called when it's pressed:\n",
    "def on_click_classify(change):\n",
    "    img = PILImage.create(btn_upload.data[-1])\n",
    "    out_pl.clear_output()\n",
    "    with out_pl: display(img.to_thumb(128,128))\n",
    "    pred,pred_idx,probs = learn_inf.predict(img)\n",
    "    lbl_pred.value = f'Prediction: {pred}; Probability: {probs[pred_idx]:.04f}'\n",
    "\n",
    "btn_run.on_click(on_click_classify)"
   ]
  },
  {
   "cell_type": "code",
   "execution_count": null,
   "id": "biblical-alpha",
   "metadata": {},
   "outputs": [],
   "source": [
    "#We can now put them all in a vertical box (VBox) to complete our GUI:\n",
    "#Putting back btn_upload to a widget for next cell\n",
    "btn_upload = widgets.FileUpload()"
   ]
  },
  {
   "cell_type": "code",
   "execution_count": null,
   "id": "sweet-respondent",
   "metadata": {},
   "outputs": [],
   "source": [
    "#draw box:\n",
    "VBox([widgets.Label('Select your bear!'), \n",
    "      btn_upload, btn_run, out_pl, lbl_pred])"
   ]
  }
 ],
 "metadata": {
  "kernelspec": {
   "display_name": "Python 3",
   "language": "python",
   "name": "python3"
  },
  "language_info": {
   "codemirror_mode": {
    "name": "ipython",
    "version": 3
   },
   "file_extension": ".py",
   "mimetype": "text/x-python",
   "name": "python",
   "nbconvert_exporter": "python",
   "pygments_lexer": "ipython3",
   "version": "3.8.5"
  }
 },
 "nbformat": 4,
 "nbformat_minor": 5
}
